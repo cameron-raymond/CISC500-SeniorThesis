{
 "nbformat": 4,
 "nbformat_minor": 2,
 "metadata": {
  "language_info": {
   "name": "python",
   "codemirror_mode": {
    "name": "ipython",
    "version": 3
   },
   "version": "3.7.4-final"
  },
  "orig_nbformat": 2,
  "file_extension": ".py",
  "mimetype": "text/x-python",
  "name": "python",
  "npconvert_exporter": "python",
  "pygments_lexer": "ipython3",
  "version": 3,
  "kernelspec": {
   "name": "python37464bitthesisenvvirtualenve582443f15784c558ab99b6e97a6ecc2",
   "display_name": "Python 3.7.4 64-bit ('thesisEnv': virtualenv)"
  }
 },
 "cells": [
  {
   "cell_type": "code",
   "execution_count": null,
   "metadata": {},
   "outputs": [],
   "source": [
    "from searchtweets import collect_results, gen_rule_payload, load_credentials, ResultStream\n",
    "import pandas as pd\n",
    "import numpy as np\n",
    "premium_search_args = load_credentials(filename=\"./search_tweets_creds.yaml\",yaml_key=\"search_tweets_api\",env_overwrite=False)"
   ]
  },
  {
   "cell_type": "code",
   "execution_count": null,
   "metadata": {},
   "outputs": [],
   "source": [
    "username = \"JustinTrudeau\"\n",
    "file_path = \"../../data/{}_data.csv\".format(username)\n",
    "test = pd.read_csv(file_path)\n",
    "test.shape"
   ]
  },
  {
   "cell_type": "code",
   "execution_count": null,
   "metadata": {},
   "outputs": [],
   "source": [
    "file_path = \"../../data/{}_retweets.csv\".format(username)\n",
    "test2 = pd.read_csv(file_path)\n",
    "print(len(test2[\"original_tweet_id\"].unique()),len(test[test[\"retweet_count\"]==0]))\n",
    "print(len(test[(~test[\"id\"].isin(test2[\"original_tweet_id\"]))]))\n",
    "test2.shape"
   ]
  },
  {
   "cell_type": "code",
   "execution_count": null,
   "metadata": {},
   "outputs": [],
   "source": [
    "# rule = gen_rule_payload(\"retweets_of:{} lang:en\".format(username),\n",
    "#                         from_date=\"2018-10-21\", #UTC 2018-10-21 00:00\n",
    "#                         to_date=\"2019-10-28\",#UTC 2017-10-30 00:00\n",
    "#                         results_per_call=500)\n",
    "# rs = ResultStream(rule_payload=rule,\n",
    "#                   max_results=500000,\n",
    "#                   max_pages=500,\n",
    "#                   **premium_search_args)\n",
    "# tweets = list(rs.stream())\n",
    "# print(len(tweets))"
   ]
  },
  {
   "cell_type": "code",
   "execution_count": null,
   "metadata": {},
   "outputs": [],
   "source": [
    "timeline_df = pd.DataFrame(tweets)\n",
    "# timeline_df = timeline_df[['id','created_at', 'source', 'text','extended_tweet','favorite_count', 'retweet_count']]\n",
    "# timeline_df[\"original_author\"],timeline_df[\"type\"] = username, \"tweet\"\n",
    "print(timeline_df.shape,list(timeline_df.columns))\n",
    "timeline_df.head()"
   ]
  }
 ]
}