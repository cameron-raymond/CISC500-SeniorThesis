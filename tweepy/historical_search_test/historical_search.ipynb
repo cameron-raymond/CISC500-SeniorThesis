{
 "nbformat": 4,
 "nbformat_minor": 2,
 "metadata": {
  "language_info": {
   "name": "python",
   "codemirror_mode": {
    "name": "ipython",
    "version": 3
   },
   "version": "3.7.4-final"
  },
  "orig_nbformat": 2,
  "file_extension": ".py",
  "mimetype": "text/x-python",
  "name": "python",
  "npconvert_exporter": "python",
  "pygments_lexer": "ipython3",
  "version": 3,
  "kernelspec": {
   "name": "python37464bitthesisenvvirtualenve582443f15784c558ab99b6e97a6ecc2",
   "display_name": "Python 3.7.4 64-bit ('thesisEnv': virtualenv)"
  }
 },
 "cells": [
  {
   "cell_type": "code",
   "execution_count": 3,
   "metadata": {},
   "outputs": [
    {
     "name": "stderr",
     "output_type": "stream",
     "text": "[nltk_data] Downloading package wordnet to /Users/student/nltk_data...\n[nltk_data]   Package wordnet is already up-to-date!\n/Users/student/Desktop/School/CISC500/sourceCode/thesisEnv/lib/python3.7/site-packages/searchtweets/credentials.py:34: YAMLLoadWarning: calling yaml.load() without Loader=... is deprecated, as the default Loader is unsafe. Please read https://msg.pyyaml.org/load for full details.\n  search_creds = yaml.load(f)[yaml_key]\n"
    }
   ],
   "source": [
    "from searchtweets import collect_results, gen_rule_payload, load_credentials, ResultStream\n",
    "from text_cleaning import clean_text\n",
    "import pandas as pd\n",
    "import numpy as np\n",
    "premium_search_args = load_credentials(filename=\"./search_tweets_creds.yaml\",yaml_key=\"search_tweets_api\",env_overwrite=False)"
   ]
  },
  {
   "cell_type": "code",
   "execution_count": 12,
   "metadata": {},
   "outputs": [],
   "source": [
    "username = \"theJagmeetSingh\"\n",
    "file_path = \"../../data/{}_data.csv\".format(username)\n"
   ]
  },
  {
   "cell_type": "code",
   "execution_count": 13,
   "metadata": {},
   "outputs": [
    {
     "name": "stdout",
     "output_type": "stream",
     "text": "796\n"
    }
   ],
   "source": [
    "rule = gen_rule_payload(\"from:{} -is:retweet lang:en\".format(username),\n",
    "                        from_date=\"2018-10-21\", #UTC 2018-10-21 00:00\n",
    "                        to_date=\"2019-10-21\",#UTC 2017-10-30 00:00\n",
    "                        results_per_call=500)\n",
    "rs = ResultStream(rule_payload=rule,\n",
    "                  max_results=10000,\n",
    "                  max_pages=500,\n",
    "                  **premium_search_args)\n",
    "tweets = list(rs.stream())\n",
    "print(len(tweets))\n",
    "# tweets = collect_results(rule,max_results=500,result_stream_args=premium_search_args)"
   ]
  },
  {
   "cell_type": "code",
   "execution_count": 14,
   "metadata": {},
   "outputs": [
    {
     "name": "stdout",
     "output_type": "stream",
     "text": "(796, 9) ['id', 'created_at', 'source', 'text', 'extended_tweet', 'favorite_count', 'retweet_count', 'original_author', 'type']\n"
    },
    {
     "data": {
      "text/html": "<div>\n<style scoped>\n    .dataframe tbody tr th:only-of-type {\n        vertical-align: middle;\n    }\n\n    .dataframe tbody tr th {\n        vertical-align: top;\n    }\n\n    .dataframe thead th {\n        text-align: right;\n    }\n</style>\n<table border=\"1\" class=\"dataframe\">\n  <thead>\n    <tr style=\"text-align: right;\">\n      <th></th>\n      <th>id</th>\n      <th>created_at</th>\n      <th>source</th>\n      <th>text</th>\n      <th>extended_tweet</th>\n      <th>favorite_count</th>\n      <th>retweet_count</th>\n      <th>original_author</th>\n      <th>type</th>\n    </tr>\n  </thead>\n  <tbody>\n    <tr>\n      <th>0</th>\n      <td>1186063097150074886</td>\n      <td>Sun Oct 20 23:34:13 +0000 2019</td>\n      <td>&lt;a href=\"https://mobile.twitter.com\" rel=\"nofo...</td>\n      <td>Justin Trudeau could have built Pharmacare.\\n\\...</td>\n      <td>NaN</td>\n      <td>11072</td>\n      <td>1175</td>\n      <td>theJagmeetSingh</td>\n      <td>tweet</td>\n    </tr>\n    <tr>\n      <th>1</th>\n      <td>1186034986136166400</td>\n      <td>Sun Oct 20 21:42:30 +0000 2019</td>\n      <td>&lt;a href=\"http://twitter.com/download/iphone\" r...</td>\n      <td>Tomorrow, Canadians get to choose an NDP gover...</td>\n      <td>{'full_text': 'Tomorrow, Canadians get to choo...</td>\n      <td>3727</td>\n      <td>566</td>\n      <td>theJagmeetSingh</td>\n      <td>tweet</td>\n    </tr>\n    <tr>\n      <th>2</th>\n      <td>1186010435683680256</td>\n      <td>Sun Oct 20 20:04:57 +0000 2019</td>\n      <td>&lt;a href=\"https://mobile.twitter.com\" rel=\"nofo...</td>\n      <td>\"there is a risk that people will go to bed on...</td>\n      <td>{'full_text': '\"there is a risk that people wi...</td>\n      <td>1622</td>\n      <td>366</td>\n      <td>theJagmeetSingh</td>\n      <td>tweet</td>\n    </tr>\n    <tr>\n      <th>3</th>\n      <td>1185988882782801920</td>\n      <td>Sun Oct 20 18:39:18 +0000 2019</td>\n      <td>&lt;a href=\"https://studio.twitter.com\" rel=\"nofo...</td>\n      <td>I've started doing this after every rally. It'...</td>\n      <td>{'full_text': 'I've started doing this after e...</td>\n      <td>2738</td>\n      <td>437</td>\n      <td>theJagmeetSingh</td>\n      <td>tweet</td>\n    </tr>\n    <tr>\n      <th>4</th>\n      <td>1185943527886188546</td>\n      <td>Sun Oct 20 15:39:05 +0000 2019</td>\n      <td>&lt;a href=\"https://studio.twitter.com\" rel=\"nofo...</td>\n      <td>On this final day of campaigning, I want to ma...</td>\n      <td>{'full_text': 'On this final day of campaignin...</td>\n      <td>5135</td>\n      <td>1207</td>\n      <td>theJagmeetSingh</td>\n      <td>tweet</td>\n    </tr>\n  </tbody>\n</table>\n</div>",
      "text/plain": "                    id                      created_at  \\\n0  1186063097150074886  Sun Oct 20 23:34:13 +0000 2019   \n1  1186034986136166400  Sun Oct 20 21:42:30 +0000 2019   \n2  1186010435683680256  Sun Oct 20 20:04:57 +0000 2019   \n3  1185988882782801920  Sun Oct 20 18:39:18 +0000 2019   \n4  1185943527886188546  Sun Oct 20 15:39:05 +0000 2019   \n\n                                              source  \\\n0  <a href=\"https://mobile.twitter.com\" rel=\"nofo...   \n1  <a href=\"http://twitter.com/download/iphone\" r...   \n2  <a href=\"https://mobile.twitter.com\" rel=\"nofo...   \n3  <a href=\"https://studio.twitter.com\" rel=\"nofo...   \n4  <a href=\"https://studio.twitter.com\" rel=\"nofo...   \n\n                                                text  \\\n0  Justin Trudeau could have built Pharmacare.\\n\\...   \n1  Tomorrow, Canadians get to choose an NDP gover...   \n2  \"there is a risk that people will go to bed on...   \n3  I've started doing this after every rally. It'...   \n4  On this final day of campaigning, I want to ma...   \n\n                                      extended_tweet  favorite_count  \\\n0                                                NaN           11072   \n1  {'full_text': 'Tomorrow, Canadians get to choo...            3727   \n2  {'full_text': '\"there is a risk that people wi...            1622   \n3  {'full_text': 'I've started doing this after e...            2738   \n4  {'full_text': 'On this final day of campaignin...            5135   \n\n   retweet_count  original_author   type  \n0           1175  theJagmeetSingh  tweet  \n1            566  theJagmeetSingh  tweet  \n2            366  theJagmeetSingh  tweet  \n3            437  theJagmeetSingh  tweet  \n4           1207  theJagmeetSingh  tweet  "
     },
     "execution_count": 14,
     "metadata": {},
     "output_type": "execute_result"
    }
   ],
   "source": [
    "timeline_df = pd.DataFrame(tweets)\n",
    "timeline_df = timeline_df[['id','created_at', 'source', 'text','extended_tweet','favorite_count', 'retweet_count']]\n",
    "timeline_df[\"original_author\"],timeline_df[\"type\"] = username, \"tweet\"\n",
    "print(timeline_df.shape,list(timeline_df.columns))\n",
    "timeline_df.head()"
   ]
  },
  {
   "cell_type": "code",
   "execution_count": 15,
   "metadata": {},
   "outputs": [],
   "source": [
    "def clean_tweet(text,extended_tweet):\n",
    "    if pd.isna(extended_tweet):\n",
    "        return pd.Series([clean_text(text), text])\n",
    "    to_dict = dict(extended_tweet)\n",
    "    return pd.Series([clean_text(to_dict[\"full_text\"]),to_dict[\"full_text\"]])"
   ]
  },
  {
   "cell_type": "code",
   "execution_count": 16,
   "metadata": {},
   "outputs": [
    {
     "data": {
      "text/html": "<div>\n<style scoped>\n    .dataframe tbody tr th:only-of-type {\n        vertical-align: middle;\n    }\n\n    .dataframe tbody tr th {\n        vertical-align: top;\n    }\n\n    .dataframe thead th {\n        text-align: right;\n    }\n</style>\n<table border=\"1\" class=\"dataframe\">\n  <thead>\n    <tr style=\"text-align: right;\">\n      <th></th>\n      <th>id</th>\n      <th>created_at</th>\n      <th>source</th>\n      <th>favorite_count</th>\n      <th>retweet_count</th>\n      <th>original_author</th>\n      <th>type</th>\n      <th>clean_text</th>\n      <th>original_text</th>\n    </tr>\n  </thead>\n  <tbody>\n    <tr>\n      <th>0</th>\n      <td>1186063097150074886</td>\n      <td>Sun Oct 20 23:34:13 +0000 2019</td>\n      <td>&lt;a href=\"https://mobile.twitter.com\" rel=\"nofo...</td>\n      <td>11072</td>\n      <td>1175</td>\n      <td>theJagmeetSingh</td>\n      <td>tweet</td>\n      <td>justin trudeau could built pharmacare instead ...</td>\n      <td>Justin Trudeau could have built Pharmacare.\\n\\...</td>\n    </tr>\n    <tr>\n      <th>1</th>\n      <td>1186034986136166400</td>\n      <td>Sun Oct 20 21:42:30 +0000 2019</td>\n      <td>&lt;a href=\"http://twitter.com/download/iphone\" r...</td>\n      <td>3727</td>\n      <td>566</td>\n      <td>theJagmeetSingh</td>\n      <td>tweet</td>\n      <td>tomorrow choose government ottawa courage tax ...</td>\n      <td>Tomorrow, Canadians get to choose an NDP gover...</td>\n    </tr>\n    <tr>\n      <th>2</th>\n      <td>1186010435683680256</td>\n      <td>Sun Oct 20 20:04:57 +0000 2019</td>\n      <td>&lt;a href=\"https://mobile.twitter.com\" rel=\"nofo...</td>\n      <td>1622</td>\n      <td>366</td>\n      <td>theJagmeetSingh</td>\n      <td>tweet</td>\n      <td>risk people bed election night without taken m...</td>\n      <td>\"there is a risk that people will go to bed on...</td>\n    </tr>\n    <tr>\n      <th>3</th>\n      <td>1185988882782801920</td>\n      <td>Sun Oct 20 18:39:18 +0000 2019</td>\n      <td>&lt;a href=\"https://studio.twitter.com\" rel=\"nofo...</td>\n      <td>2738</td>\n      <td>437</td>\n      <td>theJagmeetSingh</td>\n      <td>tweet</td>\n      <td>started every rally become known jagmeet jump ...</td>\n      <td>I've started doing this after every rally. It'...</td>\n    </tr>\n    <tr>\n      <th>4</th>\n      <td>1185943527886188546</td>\n      <td>Sun Oct 20 15:39:05 +0000 2019</td>\n      <td>&lt;a href=\"https://studio.twitter.com\" rel=\"nofo...</td>\n      <td>5135</td>\n      <td>1207</td>\n      <td>theJagmeetSingh</td>\n      <td>tweet</td>\n      <td>final day campaigning want make clear liberal ...</td>\n      <td>On this final day of campaigning, I want to ma...</td>\n    </tr>\n  </tbody>\n</table>\n</div>",
      "text/plain": "                    id                      created_at  \\\n0  1186063097150074886  Sun Oct 20 23:34:13 +0000 2019   \n1  1186034986136166400  Sun Oct 20 21:42:30 +0000 2019   \n2  1186010435683680256  Sun Oct 20 20:04:57 +0000 2019   \n3  1185988882782801920  Sun Oct 20 18:39:18 +0000 2019   \n4  1185943527886188546  Sun Oct 20 15:39:05 +0000 2019   \n\n                                              source  favorite_count  \\\n0  <a href=\"https://mobile.twitter.com\" rel=\"nofo...           11072   \n1  <a href=\"http://twitter.com/download/iphone\" r...            3727   \n2  <a href=\"https://mobile.twitter.com\" rel=\"nofo...            1622   \n3  <a href=\"https://studio.twitter.com\" rel=\"nofo...            2738   \n4  <a href=\"https://studio.twitter.com\" rel=\"nofo...            5135   \n\n   retweet_count  original_author   type  \\\n0           1175  theJagmeetSingh  tweet   \n1            566  theJagmeetSingh  tweet   \n2            366  theJagmeetSingh  tweet   \n3            437  theJagmeetSingh  tweet   \n4           1207  theJagmeetSingh  tweet   \n\n                                          clean_text  \\\n0  justin trudeau could built pharmacare instead ...   \n1  tomorrow choose government ottawa courage tax ...   \n2  risk people bed election night without taken m...   \n3  started every rally become known jagmeet jump ...   \n4  final day campaigning want make clear liberal ...   \n\n                                       original_text  \n0  Justin Trudeau could have built Pharmacare.\\n\\...  \n1  Tomorrow, Canadians get to choose an NDP gover...  \n2  \"there is a risk that people will go to bed on...  \n3  I've started doing this after every rally. It'...  \n4  On this final day of campaigning, I want to ma...  "
     },
     "execution_count": 16,
     "metadata": {},
     "output_type": "execute_result"
    }
   ],
   "source": [
    "timeline_df[[\"text\",\"extended_tweet\"]] = timeline_df.apply(lambda x: clean_tweet(x[\"text\"],x[\"extended_tweet\"]),axis=1)\n",
    "timeline_df[\"clean_text\"] = timeline_df[\"text\"]\n",
    "timeline_df[\"original_text\"] = timeline_df[\"extended_tweet\"]\n",
    "timeline_df = timeline_df.drop([\"text\",\"extended_tweet\"],axis=1)\n",
    "timeline_df.head()"
   ]
  },
  {
   "cell_type": "code",
   "execution_count": 17,
   "metadata": {},
   "outputs": [],
   "source": [
    "csvFile = open(file_path, 'w' ,encoding='utf-8')\n",
    "timeline_df.to_csv(csvFile, mode='w', index=False, encoding=\"utf-8\")"
   ]
  },
  {
   "cell_type": "code",
   "execution_count": null,
   "metadata": {},
   "outputs": [],
   "source": []
  }
 ]
}