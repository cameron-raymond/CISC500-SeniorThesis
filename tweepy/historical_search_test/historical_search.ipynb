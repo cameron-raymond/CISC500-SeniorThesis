{
 "nbformat": 4,
 "nbformat_minor": 2,
 "metadata": {
  "language_info": {
   "name": "python",
   "codemirror_mode": {
    "name": "ipython",
    "version": 3
   },
   "version": "3.7.4-final"
  },
  "orig_nbformat": 2,
  "file_extension": ".py",
  "mimetype": "text/x-python",
  "name": "python",
  "npconvert_exporter": "python",
  "pygments_lexer": "ipython3",
  "version": 3,
  "kernelspec": {
   "name": "python37464bitthesisenvvirtualenve582443f15784c558ab99b6e97a6ecc2",
   "display_name": "Python 3.7.4 64-bit ('thesisEnv': virtualenv)"
  }
 },
 "cells": [
  {
   "cell_type": "code",
   "execution_count": 214,
   "metadata": {},
   "outputs": [],
   "source": [
    "from searchtweets import collect_results, gen_rule_payload, load_credentials, ResultStream\n",
    "from text_cleaning import clean_text\n",
    "import pandas as pd\n",
    "import numpy as np\n",
    "premium_search_args = load_credentials(filename=\"./search_tweets_creds.yaml\",yaml_key=\"search_tweets_api\",env_overwrite=False)"
   ]
  },
  {
   "cell_type": "code",
   "execution_count": 228,
   "metadata": {},
   "outputs": [],
   "source": [
    "username = \"MaximeBernier\"\n",
    "file_path = \"../../data/{}_data.csv\".format(username)\n"
   ]
  },
  {
   "cell_type": "code",
   "execution_count": 229,
   "metadata": {},
   "outputs": [
    {
     "name": "stdout",
     "output_type": "stream",
     "text": "1676\n"
    }
   ],
   "source": [
    "rule = gen_rule_payload(\"from:{} -is:retweet lang:en\".format(username),\n",
    "                        from_date=\"2018-10-21\", #UTC 2018-10-21 00:00\n",
    "                        to_date=\"2019-10-21\",#UTC 2017-10-30 00:00\n",
    "                        results_per_call=500)\n",
    "rs = ResultStream(rule_payload=rule,\n",
    "                  max_results=10000,\n",
    "                  max_pages=500,\n",
    "                  **premium_search_args)\n",
    "tweets = list(rs.stream())\n",
    "print(len(tweets))\n",
    "# tweets = collect_results(rule,max_results=500,result_stream_args=premium_search_args)"
   ]
  },
  {
   "cell_type": "code",
   "execution_count": 230,
   "metadata": {},
   "outputs": [
    {
     "name": "stdout",
     "output_type": "stream",
     "text": "(1676, 9) ['id', 'created_at', 'source', 'text', 'extended_tweet', 'favorite_count', 'retweet_count', 'original_author', 'type']\n"
    },
    {
     "data": {
      "text/html": "<div>\n<style scoped>\n    .dataframe tbody tr th:only-of-type {\n        vertical-align: middle;\n    }\n\n    .dataframe tbody tr th {\n        vertical-align: top;\n    }\n\n    .dataframe thead th {\n        text-align: right;\n    }\n</style>\n<table border=\"1\" class=\"dataframe\">\n  <thead>\n    <tr style=\"text-align: right;\">\n      <th></th>\n      <th>id</th>\n      <th>created_at</th>\n      <th>source</th>\n      <th>text</th>\n      <th>extended_tweet</th>\n      <th>favorite_count</th>\n      <th>retweet_count</th>\n      <th>original_author</th>\n      <th>type</th>\n    </tr>\n  </thead>\n  <tbody>\n    <tr>\n      <th>0</th>\n      <td>1186053000843976704</td>\n      <td>Sun Oct 20 22:54:05 +0000 2019</td>\n      <td>&lt;a href=\"http://twitter.com/download/iphone\" r...</td>\n      <td>I am so proud of our candidates.\\n\\nYou showed...</td>\n      <td>{'full_text': 'I am so proud of our candidates...</td>\n      <td>2726</td>\n      <td>879</td>\n      <td>MaximeBernier</td>\n      <td>tweet</td>\n    </tr>\n    <tr>\n      <th>1</th>\n      <td>1186022380839362562</td>\n      <td>Sun Oct 20 20:52:25 +0000 2019</td>\n      <td>&lt;a href=\"http://twitter.com/download/iphone\" r...</td>\n      <td>Dernier jour de campagne en Beauce! \\nLast day...</td>\n      <td>NaN</td>\n      <td>464</td>\n      <td>133</td>\n      <td>MaximeBernier</td>\n      <td>tweet</td>\n    </tr>\n    <tr>\n      <th>2</th>\n      <td>1185994970517381120</td>\n      <td>Sun Oct 20 19:03:30 +0000 2019</td>\n      <td>&lt;a href=\"http://twitter.com/download/iphone\" r...</td>\n      <td>Imagine how Canadian politics would be insipid...</td>\n      <td>{'full_text': 'Imagine how Canadian politics w...</td>\n      <td>1161</td>\n      <td>531</td>\n      <td>MaximeBernier</td>\n      <td>tweet</td>\n    </tr>\n    <tr>\n      <th>3</th>\n      <td>1185990944534994944</td>\n      <td>Sun Oct 20 18:47:30 +0000 2019</td>\n      <td>&lt;a href=\"http://twitter.com/download/iphone\" r...</td>\n      <td>Are you tired of the constant pandering?\\n\\nTh...</td>\n      <td>{'full_text': 'Are you tired of the constant p...</td>\n      <td>2059</td>\n      <td>771</td>\n      <td>MaximeBernier</td>\n      <td>tweet</td>\n    </tr>\n    <tr>\n      <th>4</th>\n      <td>1185953045588381697</td>\n      <td>Sun Oct 20 16:16:54 +0000 2019</td>\n      <td>&lt;a href=\"http://twitter.com/download/iphone\" r...</td>\n      <td>Don’t vote out of fear.\\n\\nVote for your value...</td>\n      <td>NaN</td>\n      <td>1595</td>\n      <td>666</td>\n      <td>MaximeBernier</td>\n      <td>tweet</td>\n    </tr>\n  </tbody>\n</table>\n</div>",
      "text/plain": "                    id                      created_at  \\\n0  1186053000843976704  Sun Oct 20 22:54:05 +0000 2019   \n1  1186022380839362562  Sun Oct 20 20:52:25 +0000 2019   \n2  1185994970517381120  Sun Oct 20 19:03:30 +0000 2019   \n3  1185990944534994944  Sun Oct 20 18:47:30 +0000 2019   \n4  1185953045588381697  Sun Oct 20 16:16:54 +0000 2019   \n\n                                              source  \\\n0  <a href=\"http://twitter.com/download/iphone\" r...   \n1  <a href=\"http://twitter.com/download/iphone\" r...   \n2  <a href=\"http://twitter.com/download/iphone\" r...   \n3  <a href=\"http://twitter.com/download/iphone\" r...   \n4  <a href=\"http://twitter.com/download/iphone\" r...   \n\n                                                text  \\\n0  I am so proud of our candidates.\\n\\nYou showed...   \n1  Dernier jour de campagne en Beauce! \\nLast day...   \n2  Imagine how Canadian politics would be insipid...   \n3  Are you tired of the constant pandering?\\n\\nTh...   \n4  Don’t vote out of fear.\\n\\nVote for your value...   \n\n                                      extended_tweet  favorite_count  \\\n0  {'full_text': 'I am so proud of our candidates...            2726   \n1                                                NaN             464   \n2  {'full_text': 'Imagine how Canadian politics w...            1161   \n3  {'full_text': 'Are you tired of the constant p...            2059   \n4                                                NaN            1595   \n\n   retweet_count original_author   type  \n0            879   MaximeBernier  tweet  \n1            133   MaximeBernier  tweet  \n2            531   MaximeBernier  tweet  \n3            771   MaximeBernier  tweet  \n4            666   MaximeBernier  tweet  "
     },
     "execution_count": 230,
     "metadata": {},
     "output_type": "execute_result"
    }
   ],
   "source": [
    "timeline_df = pd.DataFrame(tweets)\n",
    "timeline_df = timeline_df[['id','created_at', 'source', 'text','extended_tweet','favorite_count', 'retweet_count']]\n",
    "timeline_df[\"original_author\"],timeline_df[\"type\"] = username, \"tweet\"\n",
    "print(timeline_df.shape,list(timeline_df.columns))\n",
    "timeline_df.head()"
   ]
  },
  {
   "cell_type": "code",
   "execution_count": 231,
   "metadata": {},
   "outputs": [],
   "source": [
    "def clean_tweet(text,extended_tweet):\n",
    "    if pd.isna(extended_tweet):\n",
    "        return pd.Series([clean_text(text), text])\n",
    "    to_dict = dict(extended_tweet)\n",
    "    return pd.Series([clean_text(to_dict[\"full_text\"]),to_dict[\"full_text\"]])"
   ]
  },
  {
   "cell_type": "code",
   "execution_count": 232,
   "metadata": {},
   "outputs": [
    {
     "data": {
      "text/html": "<div>\n<style scoped>\n    .dataframe tbody tr th:only-of-type {\n        vertical-align: middle;\n    }\n\n    .dataframe tbody tr th {\n        vertical-align: top;\n    }\n\n    .dataframe thead th {\n        text-align: right;\n    }\n</style>\n<table border=\"1\" class=\"dataframe\">\n  <thead>\n    <tr style=\"text-align: right;\">\n      <th></th>\n      <th>id</th>\n      <th>created_at</th>\n      <th>source</th>\n      <th>favorite_count</th>\n      <th>retweet_count</th>\n      <th>original_author</th>\n      <th>type</th>\n      <th>clean_text</th>\n      <th>original_text</th>\n    </tr>\n  </thead>\n  <tbody>\n    <tr>\n      <th>0</th>\n      <td>1186053000843976704</td>\n      <td>Sun Oct 20 22:54:05 +0000 2019</td>\n      <td>&lt;a href=\"http://twitter.com/download/iphone\" r...</td>\n      <td>2726</td>\n      <td>879</td>\n      <td>MaximeBernier</td>\n      <td>tweet</td>\n      <td>proud candidate showed incredible courage pass...</td>\n      <td>I am so proud of our candidates.\\n\\nYou showed...</td>\n    </tr>\n    <tr>\n      <th>1</th>\n      <td>1186022380839362562</td>\n      <td>Sun Oct 20 20:52:25 +0000 2019</td>\n      <td>&lt;a href=\"http://twitter.com/download/iphone\" r...</td>\n      <td>464</td>\n      <td>133</td>\n      <td>MaximeBernier</td>\n      <td>tweet</td>\n      <td>dernier jour campagne beauce last day campaign...</td>\n      <td>Dernier jour de campagne en Beauce! \\nLast day...</td>\n    </tr>\n    <tr>\n      <th>2</th>\n      <td>1185994970517381120</td>\n      <td>Sun Oct 20 19:03:30 +0000 2019</td>\n      <td>&lt;a href=\"http://twitter.com/download/iphone\" r...</td>\n      <td>1161</td>\n      <td>531</td>\n      <td>MaximeBernier</td>\n      <td>tweet</td>\n      <td>imagine politics would insipid irrelevant with...</td>\n      <td>Imagine how Canadian politics would be insipid...</td>\n    </tr>\n    <tr>\n      <th>3</th>\n      <td>1185990944534994944</td>\n      <td>Sun Oct 20 18:47:30 +0000 2019</td>\n      <td>&lt;a href=\"http://twitter.com/download/iphone\" r...</td>\n      <td>2059</td>\n      <td>771</td>\n      <td>MaximeBernier</td>\n      <td>tweet</td>\n      <td>tired constant pandering party campaigned good...</td>\n      <td>Are you tired of the constant pandering?\\n\\nTh...</td>\n    </tr>\n    <tr>\n      <th>4</th>\n      <td>1185953045588381697</td>\n      <td>Sun Oct 20 16:16:54 +0000 2019</td>\n      <td>&lt;a href=\"http://twitter.com/download/iphone\" r...</td>\n      <td>1595</td>\n      <td>666</td>\n      <td>MaximeBernier</td>\n      <td>tweet</td>\n      <td>vote fear vote value vote believe</td>\n      <td>Don’t vote out of fear.\\n\\nVote for your value...</td>\n    </tr>\n  </tbody>\n</table>\n</div>",
      "text/plain": "                    id                      created_at  \\\n0  1186053000843976704  Sun Oct 20 22:54:05 +0000 2019   \n1  1186022380839362562  Sun Oct 20 20:52:25 +0000 2019   \n2  1185994970517381120  Sun Oct 20 19:03:30 +0000 2019   \n3  1185990944534994944  Sun Oct 20 18:47:30 +0000 2019   \n4  1185953045588381697  Sun Oct 20 16:16:54 +0000 2019   \n\n                                              source  favorite_count  \\\n0  <a href=\"http://twitter.com/download/iphone\" r...            2726   \n1  <a href=\"http://twitter.com/download/iphone\" r...             464   \n2  <a href=\"http://twitter.com/download/iphone\" r...            1161   \n3  <a href=\"http://twitter.com/download/iphone\" r...            2059   \n4  <a href=\"http://twitter.com/download/iphone\" r...            1595   \n\n   retweet_count original_author   type  \\\n0            879   MaximeBernier  tweet   \n1            133   MaximeBernier  tweet   \n2            531   MaximeBernier  tweet   \n3            771   MaximeBernier  tweet   \n4            666   MaximeBernier  tweet   \n\n                                          clean_text  \\\n0  proud candidate showed incredible courage pass...   \n1  dernier jour campagne beauce last day campaign...   \n2  imagine politics would insipid irrelevant with...   \n3  tired constant pandering party campaigned good...   \n4                 vote fear vote value vote believe    \n\n                                       original_text  \n0  I am so proud of our candidates.\\n\\nYou showed...  \n1  Dernier jour de campagne en Beauce! \\nLast day...  \n2  Imagine how Canadian politics would be insipid...  \n3  Are you tired of the constant pandering?\\n\\nTh...  \n4  Don’t vote out of fear.\\n\\nVote for your value...  "
     },
     "execution_count": 232,
     "metadata": {},
     "output_type": "execute_result"
    }
   ],
   "source": [
    "timeline_df[[\"text\",\"extended_tweet\"]] = timeline_df.apply(lambda x: clean_tweet(x[\"text\"],x[\"extended_tweet\"]),axis=1)\n",
    "timeline_df[\"clean_text\"] = timeline_df[\"text\"]\n",
    "timeline_df[\"original_text\"] = timeline_df[\"extended_tweet\"]\n",
    "timeline_df = timeline_df.drop([\"text\",\"extended_tweet\"],axis=1)\n",
    "timeline_df.head()"
   ]
  },
  {
   "cell_type": "code",
   "execution_count": 233,
   "metadata": {},
   "outputs": [],
   "source": [
    "csvFile = open(file_path, 'w' ,encoding='utf-8')\n",
    "timeline_df.to_csv(csvFile, mode='w', index=False, encoding=\"utf-8\")"
   ]
  },
  {
   "cell_type": "code",
   "execution_count": null,
   "metadata": {},
   "outputs": [],
   "source": []
  }
 ]
}