{
 "nbformat": 4,
 "nbformat_minor": 2,
 "metadata": {
  "language_info": {
   "name": "python",
   "codemirror_mode": {
    "name": "ipython",
    "version": 3
   },
   "version": "3.7.4-final"
  },
  "orig_nbformat": 2,
  "file_extension": ".py",
  "mimetype": "text/x-python",
  "name": "python",
  "npconvert_exporter": "python",
  "pygments_lexer": "ipython3",
  "version": 3,
  "kernelspec": {
   "name": "python37464bitthesisenvvirtualenve582443f15784c558ab99b6e97a6ecc2",
   "display_name": "Python 3.7.4 64-bit ('thesisEnv': virtualenv)"
  }
 },
 "cells": [
  {
   "cell_type": "code",
   "execution_count": 11,
   "metadata": {},
   "outputs": [],
   "source": [
    "import numpy as np\n",
    "import pandas as pd\n",
    "from tensorflow.keras.models import Sequential\n",
    "from tensorflow.keras.callbacks import EarlyStopping\n",
    "from tensorflow.keras.layers import Dense, LSTM, Flatten, Embedding, SpatialDropout1D,GlobalMaxPool1D, Dropout\n",
    "from tensorflow.keras.models import load_model, save_model"
   ]
  },
  {
   "cell_type": "code",
   "execution_count": 15,
   "metadata": {},
   "outputs": [
    {
     "name": "stdout",
     "output_type": "stream",
     "text": "(4416, 13) (67491, 8)\nIndex(['id', 'type', 'created_at', 'source', 'original_text', 'clean_text',\n       'favorite_count', 'retweet_count', 'hashtags', 'mentions',\n       'original_author', 'lda_cluster', 'to_date'],\n      dtype='object') Index(['original_tweet_id', 'retweet_id', 'type', 'created_at', 'source',\n       'favorite_count', 'retweet_count', 'original_author'],\n      dtype='object')\n"
    }
   ],
   "source": [
    "usernames = [\"JustinTrudeau\",\"ElizabethMay\",\"AndrewScheer\",\"MaximeBernier\",\"theJagmeetSingh\"]\n",
    "tweet_frames = []\n",
    "retweet_frames = []\n",
    "for username in usernames:\n",
    "    tweet_frame = pd.read_csv(\"../data/{}_data.csv\".format(username))\n",
    "    retweet_frame = pd.read_csv(\"../data/{}_retweets.csv\".format(username))\n",
    "    tweet_frames.append(tweet_frame)\n",
    "    retweet_frames.append(retweet_frame)\n",
    "tweet_df = pd.concat(tweet_frames,sort=False)  \n",
    "retweet_df = pd.concat(retweet_frames,sort=False)\n",
    "print(tweet_df.shape,retweet_df.shape)\n",
    "print(tweet_df.columns,retweet_df.columns)"
   ]
  },
  {
   "cell_type": "code",
   "execution_count": 32,
   "metadata": {},
   "outputs": [
    {
     "data": {
      "text/html": "<div>\n<style scoped>\n    .dataframe tbody tr th:only-of-type {\n        vertical-align: middle;\n    }\n\n    .dataframe tbody tr th {\n        vertical-align: top;\n    }\n\n    .dataframe thead th {\n        text-align: right;\n    }\n</style>\n<table border=\"1\" class=\"dataframe\">\n  <thead>\n    <tr style=\"text-align: right;\">\n      <th></th>\n      <th>original_tweet_id</th>\n      <th>retweet_id</th>\n      <th>type_x</th>\n      <th>created_at_x</th>\n      <th>source_x</th>\n      <th>favorite_count_x</th>\n      <th>retweet_count_x</th>\n      <th>original_author_x</th>\n      <th>id</th>\n      <th>type_y</th>\n      <th>...</th>\n      <th>source_y</th>\n      <th>original_text</th>\n      <th>clean_text</th>\n      <th>favorite_count_y</th>\n      <th>retweet_count_y</th>\n      <th>hashtags</th>\n      <th>mentions</th>\n      <th>original_author_y</th>\n      <th>lda_cluster</th>\n      <th>to_date</th>\n    </tr>\n  </thead>\n  <tbody>\n    <tr>\n      <th>0</th>\n      <td>1186063209381486593</td>\n      <td>1188837840680964099</td>\n      <td>retweet</td>\n      <td>Mon Oct 28 15:20:03 +0000 2019</td>\n      <td>&lt;a href=\"http://twitter.com/download/iphone\" r...</td>\n      <td>0</td>\n      <td>3283</td>\n      <td>roguechimp99</td>\n      <td>1186063209381486593</td>\n      <td>tweet</td>\n      <td>...</td>\n      <td>&lt;a href=\"https://studio.twitter.com\" rel=\"nofo...</td>\n      <td>Andrew Scheer is against gay marriage, against...</td>\n      <td>andrew scheer gay marriage woman right choose ...</td>\n      <td>9289</td>\n      <td>3216</td>\n      <td>ChooseForward</td>\n      <td>NaN</td>\n      <td>JustinTrudeau</td>\n      <td>1</td>\n      <td>NaN</td>\n    </tr>\n    <tr>\n      <th>1</th>\n      <td>1186063209381486593</td>\n      <td>1188576827108757504</td>\n      <td>retweet</td>\n      <td>Sun Oct 27 22:02:52 +0000 2019</td>\n      <td>&lt;a href=\"http://twitter.com/download/android\" ...</td>\n      <td>0</td>\n      <td>3283</td>\n      <td>SteveScho54</td>\n      <td>1186063209381486593</td>\n      <td>tweet</td>\n      <td>...</td>\n      <td>&lt;a href=\"https://studio.twitter.com\" rel=\"nofo...</td>\n      <td>Andrew Scheer is against gay marriage, against...</td>\n      <td>andrew scheer gay marriage woman right choose ...</td>\n      <td>9289</td>\n      <td>3216</td>\n      <td>ChooseForward</td>\n      <td>NaN</td>\n      <td>JustinTrudeau</td>\n      <td>1</td>\n      <td>NaN</td>\n    </tr>\n    <tr>\n      <th>2</th>\n      <td>1186063209381486593</td>\n      <td>1188027813716209664</td>\n      <td>retweet</td>\n      <td>Sat Oct 26 09:41:17 +0000 2019</td>\n      <td>&lt;a href=\"https://mobile.twitter.com\" rel=\"nofo...</td>\n      <td>0</td>\n      <td>3283</td>\n      <td>Pari95751293</td>\n      <td>1186063209381486593</td>\n      <td>tweet</td>\n      <td>...</td>\n      <td>&lt;a href=\"https://studio.twitter.com\" rel=\"nofo...</td>\n      <td>Andrew Scheer is against gay marriage, against...</td>\n      <td>andrew scheer gay marriage woman right choose ...</td>\n      <td>9289</td>\n      <td>3216</td>\n      <td>ChooseForward</td>\n      <td>NaN</td>\n      <td>JustinTrudeau</td>\n      <td>1</td>\n      <td>NaN</td>\n    </tr>\n    <tr>\n      <th>3</th>\n      <td>1186063209381486593</td>\n      <td>1187659106854805504</td>\n      <td>retweet</td>\n      <td>Fri Oct 25 09:16:11 +0000 2019</td>\n      <td>&lt;a href=\"http://twitter.com/download/android\" ...</td>\n      <td>0</td>\n      <td>3283</td>\n      <td>MeralJade</td>\n      <td>1186063209381486593</td>\n      <td>tweet</td>\n      <td>...</td>\n      <td>&lt;a href=\"https://studio.twitter.com\" rel=\"nofo...</td>\n      <td>Andrew Scheer is against gay marriage, against...</td>\n      <td>andrew scheer gay marriage woman right choose ...</td>\n      <td>9289</td>\n      <td>3216</td>\n      <td>ChooseForward</td>\n      <td>NaN</td>\n      <td>JustinTrudeau</td>\n      <td>1</td>\n      <td>NaN</td>\n    </tr>\n    <tr>\n      <th>4</th>\n      <td>1186063209381486593</td>\n      <td>1187592355945299968</td>\n      <td>retweet</td>\n      <td>Fri Oct 25 04:50:56 +0000 2019</td>\n      <td>&lt;a href=\"http://twitter.com/download/iphone\" r...</td>\n      <td>0</td>\n      <td>3283</td>\n      <td>IpsumMater</td>\n      <td>1186063209381486593</td>\n      <td>tweet</td>\n      <td>...</td>\n      <td>&lt;a href=\"https://studio.twitter.com\" rel=\"nofo...</td>\n      <td>Andrew Scheer is against gay marriage, against...</td>\n      <td>andrew scheer gay marriage woman right choose ...</td>\n      <td>9289</td>\n      <td>3216</td>\n      <td>ChooseForward</td>\n      <td>NaN</td>\n      <td>JustinTrudeau</td>\n      <td>1</td>\n      <td>NaN</td>\n    </tr>\n  </tbody>\n</table>\n<p>5 rows × 21 columns</p>\n</div>",
      "text/plain": "     original_tweet_id           retweet_id   type_x  \\\n0  1186063209381486593  1188837840680964099  retweet   \n1  1186063209381486593  1188576827108757504  retweet   \n2  1186063209381486593  1188027813716209664  retweet   \n3  1186063209381486593  1187659106854805504  retweet   \n4  1186063209381486593  1187592355945299968  retweet   \n\n                     created_at_x  \\\n0  Mon Oct 28 15:20:03 +0000 2019   \n1  Sun Oct 27 22:02:52 +0000 2019   \n2  Sat Oct 26 09:41:17 +0000 2019   \n3  Fri Oct 25 09:16:11 +0000 2019   \n4  Fri Oct 25 04:50:56 +0000 2019   \n\n                                            source_x  favorite_count_x  \\\n0  <a href=\"http://twitter.com/download/iphone\" r...                 0   \n1  <a href=\"http://twitter.com/download/android\" ...                 0   \n2  <a href=\"https://mobile.twitter.com\" rel=\"nofo...                 0   \n3  <a href=\"http://twitter.com/download/android\" ...                 0   \n4  <a href=\"http://twitter.com/download/iphone\" r...                 0   \n\n   retweet_count_x original_author_x                   id type_y  ...  \\\n0             3283      roguechimp99  1186063209381486593  tweet  ...   \n1             3283       SteveScho54  1186063209381486593  tweet  ...   \n2             3283      Pari95751293  1186063209381486593  tweet  ...   \n3             3283         MeralJade  1186063209381486593  tweet  ...   \n4             3283        IpsumMater  1186063209381486593  tweet  ...   \n\n                                            source_y  \\\n0  <a href=\"https://studio.twitter.com\" rel=\"nofo...   \n1  <a href=\"https://studio.twitter.com\" rel=\"nofo...   \n2  <a href=\"https://studio.twitter.com\" rel=\"nofo...   \n3  <a href=\"https://studio.twitter.com\" rel=\"nofo...   \n4  <a href=\"https://studio.twitter.com\" rel=\"nofo...   \n\n                                       original_text  \\\n0  Andrew Scheer is against gay marriage, against...   \n1  Andrew Scheer is against gay marriage, against...   \n2  Andrew Scheer is against gay marriage, against...   \n3  Andrew Scheer is against gay marriage, against...   \n4  Andrew Scheer is against gay marriage, against...   \n\n                                          clean_text favorite_count_y  \\\n0  andrew scheer gay marriage woman right choose ...             9289   \n1  andrew scheer gay marriage woman right choose ...             9289   \n2  andrew scheer gay marriage woman right choose ...             9289   \n3  andrew scheer gay marriage woman right choose ...             9289   \n4  andrew scheer gay marriage woman right choose ...             9289   \n\n   retweet_count_y       hashtags mentions original_author_y lda_cluster  \\\n0             3216  ChooseForward      NaN     JustinTrudeau           1   \n1             3216  ChooseForward      NaN     JustinTrudeau           1   \n2             3216  ChooseForward      NaN     JustinTrudeau           1   \n3             3216  ChooseForward      NaN     JustinTrudeau           1   \n4             3216  ChooseForward      NaN     JustinTrudeau           1   \n\n   to_date  \n0      NaN  \n1      NaN  \n2      NaN  \n3      NaN  \n4      NaN  \n\n[5 rows x 21 columns]"
     },
     "execution_count": 32,
     "metadata": {},
     "output_type": "execute_result"
    }
   ],
   "source": [
    "merged_df = pd.merge(left=retweet_df,right=tweet_df, how='inner', left_on='original_tweet_id', right_on='id')\n",
    "merged_df.head()"
   ]
  },
  {
   "cell_type": "code",
   "execution_count": 33,
   "metadata": {},
   "outputs": [
    {
     "name": "stderr",
     "output_type": "stream",
     "text": "ERROR:root:Internal Python error in the inspect module.\nBelow is the traceback from this internal error.\n\nTraceback (most recent call last):\n  File \"/Users/student/Desktop/School/CISC500/sourceCode/thesisEnv/lib/python3.7/site-packages/IPython/core/interactiveshell.py\", line 3319, in run_code\n    exec(code_obj, self.user_global_ns, self.user_ns)\n  File \"<ipython-input-33-b8227a530d22>\", line 5, in <module>\n    df.columns = ['id', 'retweet_id','retweet_author','tweet_author','lda_cluster']\nNameError: name 'df' is not defined\n\nDuring handling of the above exception, another exception occurred:\n\nTraceback (most recent call last):\n  File \"/Users/student/Desktop/School/CISC500/sourceCode/thesisEnv/lib/python3.7/site-packages/IPython/core/interactiveshell.py\", line 2034, in showtraceback\n    stb = value._render_traceback_()\nAttributeError: 'NameError' object has no attribute '_render_traceback_'\n\nDuring handling of the above exception, another exception occurred:\n\nTraceback (most recent call last):\n  File \"/Users/student/Desktop/School/CISC500/sourceCode/thesisEnv/lib/python3.7/site-packages/IPython/core/ultratb.py\", line 1151, in get_records\n    return _fixed_getinnerframes(etb, number_of_lines_of_context, tb_offset)\n  File \"/Users/student/Desktop/School/CISC500/sourceCode/thesisEnv/lib/python3.7/site-packages/IPython/core/ultratb.py\", line 319, in wrapped\n    return f(*args, **kwargs)\n  File \"/Users/student/Desktop/School/CISC500/sourceCode/thesisEnv/lib/python3.7/site-packages/IPython/core/ultratb.py\", line 353, in _fixed_getinnerframes\n    records = fix_frame_records_filenames(inspect.getinnerframes(etb, context))\n  File \"/usr/local/Cellar/python/3.7.4_1/Frameworks/Python.framework/Versions/3.7/lib/python3.7/inspect.py\", line 1502, in getinnerframes\n    frameinfo = (tb.tb_frame,) + getframeinfo(tb, context)\n  File \"/usr/local/Cellar/python/3.7.4_1/Frameworks/Python.framework/Versions/3.7/lib/python3.7/inspect.py\", line 1460, in getframeinfo\n    filename = getsourcefile(frame) or getfile(frame)\n  File \"/usr/local/Cellar/python/3.7.4_1/Frameworks/Python.framework/Versions/3.7/lib/python3.7/inspect.py\", line 696, in getsourcefile\n    if getattr(getmodule(object, filename), '__loader__', None) is not None:\n  File \"/usr/local/Cellar/python/3.7.4_1/Frameworks/Python.framework/Versions/3.7/lib/python3.7/inspect.py\", line 733, in getmodule\n    if ismodule(module) and hasattr(module, '__file__'):\n  File \"/Users/student/Desktop/School/CISC500/sourceCode/thesisEnv/lib/python3.7/site-packages/tensorflow/__init__.py\", line 50, in __getattr__\n    module = self._load()\n  File \"/Users/student/Desktop/School/CISC500/sourceCode/thesisEnv/lib/python3.7/site-packages/tensorflow/__init__.py\", line 44, in _load\n    module = _importlib.import_module(self.__name__)\n  File \"/Users/student/Desktop/School/CISC500/sourceCode/thesisEnv/lib/python3.7/importlib/__init__.py\", line 127, in import_module\n    return _bootstrap._gcd_import(name[level:], package, level)\n  File \"<frozen importlib._bootstrap>\", line 1006, in _gcd_import\n  File \"<frozen importlib._bootstrap>\", line 983, in _find_and_load\n  File \"<frozen importlib._bootstrap>\", line 967, in _find_and_load_unlocked\n  File \"<frozen importlib._bootstrap>\", line 677, in _load_unlocked\n  File \"<frozen importlib._bootstrap_external>\", line 728, in exec_module\n  File \"<frozen importlib._bootstrap>\", line 219, in _call_with_frames_removed\n  File \"/Users/student/Desktop/School/CISC500/sourceCode/thesisEnv/lib/python3.7/site-packages/tensorflow_core/_api/v2/compat/__init__.py\", line 39, in <module>\n    from . import v1\n  File \"/Users/student/Desktop/School/CISC500/sourceCode/thesisEnv/lib/python3.7/site-packages/tensorflow_core/_api/v2/compat/v1/__init__.py\", line 32, in <module>\n    from . import compat\n  File \"/Users/student/Desktop/School/CISC500/sourceCode/thesisEnv/lib/python3.7/site-packages/tensorflow_core/_api/v2/compat/v1/compat/__init__.py\", line 39, in <module>\n    from . import v1\n  File \"/Users/student/Desktop/School/CISC500/sourceCode/thesisEnv/lib/python3.7/site-packages/tensorflow_core/_api/v2/compat/v1/compat/v1/__init__.py\", line 106, in <module>\n    from tensorflow.python.eager.context import executing_eagerly_v1 as executing_eagerly\nImportError: cannot import name 'executing_eagerly_v1' from 'tensorflow.python.eager.context' (/Users/student/Desktop/School/CISC500/sourceCode/thesisEnv/lib/python3.7/site-packages/tensorflow_core/python/eager/context.py)\n"
    },
    {
     "ename": "NameError",
     "evalue": "name 'df' is not defined",
     "output_type": "error",
     "traceback": [
      "\u001b[0;31m---------------------------------------------------------------------------\u001b[0m"
     ]
    }
   ],
   "source": [
    "merged_df = merged_df.drop(['type_y','type_x', 'created_at_x', 'source_x',\n",
    "       'favorite_count_x', 'retweet_count_x', 'id',\n",
    "       'type_y', 'created_at_y', 'source_y', 'original_text', 'clean_text',\n",
    "       'favorite_count_y', 'retweet_count_y', 'hashtags', 'mentions','to_date'],axis=1)\n",
    "df.columns = ['id', 'retweet_id','retweet_author','tweet_author','lda_cluster']\n",
    "print(merged_df.columns,merged_df.shape)\n",
    "merged_df.head()"
   ]
  },
  {
   "cell_type": "code",
   "execution_count": null,
   "metadata": {},
   "outputs": [],
   "source": []
  }
 ]
}